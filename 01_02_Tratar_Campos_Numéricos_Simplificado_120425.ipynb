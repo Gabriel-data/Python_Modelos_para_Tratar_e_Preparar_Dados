{
  "nbformat": 4,
  "nbformat_minor": 0,
  "metadata": {
    "colab": {
      "provenance": [],
      "mount_file_id": "1HkAhNWRwugHWK2HTyRFReVpqimrgSimU",
      "authorship_tag": "ABX9TyPu6wgMLycrxUOm1J/ax89e",
      "include_colab_link": true
    },
    "kernelspec": {
      "name": "python3",
      "display_name": "Python 3"
    },
    "language_info": {
      "name": "python"
    }
  },
  "cells": [
    {
      "cell_type": "markdown",
      "metadata": {
        "id": "view-in-github",
        "colab_type": "text"
      },
      "source": [
        "<a href=\"https://colab.research.google.com/github/Gabriel-data/Python_Modelos_para_Tratar_e_Preparar_Dados/blob/main/01_02_Tratar_Campos_Num%C3%A9ricos_Simplificado_120425.ipynb\" target=\"_parent\"><img src=\"https://colab.research.google.com/assets/colab-badge.svg\" alt=\"Open In Colab\"/></a>"
      ]
    },
    {
      "cell_type": "markdown",
      "source": [
        "## OBJETIVO: Preparar e tratar dados no Python - Etapa 2 - cáclulos numéricos.\n"
      ],
      "metadata": {
        "id": "ESm7Qf68654h"
      }
    },
    {
      "cell_type": "markdown",
      "source": [
        "Preperação do Ambiente"
      ],
      "metadata": {
        "id": "liM07Flu7H8c"
      }
    },
    {
      "cell_type": "code",
      "source": [
        "# Importar biliotecas\n",
        "\n",
        "import numpy as np\n",
        "import pandas as pd\n"
      ],
      "metadata": {
        "id": "MPtYtU-R8KU6"
      },
      "execution_count": 3,
      "outputs": []
    },
    {
      "cell_type": "code",
      "source": [
        "# Montar o Drive\n",
        "from google.colab import drive\n",
        "# drive.mount('/content/drive')\n",
        "drive.mount('/content/drive/MyDrive/A-Colab_Note_2')"
      ],
      "metadata": {
        "colab": {
          "base_uri": "https://localhost:8080/"
        },
        "id": "iH8iE644AI5G",
        "outputId": "964f3eef-13ad-4cc4-c6d9-6bfe8f6189c8"
      },
      "execution_count": 11,
      "outputs": [
        {
          "output_type": "stream",
          "name": "stdout",
          "text": [
            "Mounted at /content/drive/MyDrive/A-Colab_Note_2\n"
          ]
        }
      ]
    },
    {
      "cell_type": "code",
      "source": [
        "## Alternativa para preparar o Drive\n",
        "import os\n",
        "#pasta = \"/content/drive/MyDrive\"\n",
        "pasta = \"/content/drive/MyDrive/A-Colab_Note_2\"\n",
        "if not os.path.exists(pasta):\n",
        "  os.makedirs(pasta)"
      ],
      "metadata": {
        "id": "hH2orCoZBxvi"
      },
      "execution_count": 8,
      "outputs": []
    },
    {
      "cell_type": "markdown",
      "source": [
        "Extração de Dados"
      ],
      "metadata": {
        "id": "tTTNStsoCJ7j"
      }
    },
    {
      "cell_type": "code",
      "source": [
        "# Extração do arquivo\n",
        "\n",
        "dados = pd.read_csv('/content/drive/MyDrive/A-Colab_Note_2/MyDrive/A-Colab_Note_2/z_Bases/Lista_20_Prod-Tratada_Etapa_1_falta_Precos.CSV')"
      ],
      "metadata": {
        "id": "jg3HNnHJCMZU"
      },
      "execution_count": 12,
      "outputs": []
    },
    {
      "cell_type": "markdown",
      "source": [
        "Coleta de Requisitos"
      ],
      "metadata": {
        "id": "f8LT-P1B7Ndk"
      }
    },
    {
      "cell_type": "markdown",
      "source": [
        "* Nome do arquivo: **Lista_20_Produtos_Isol.CSV**\n",
        "\n",
        "* Origem do arquivo: Local, da máquina de usuário.\n",
        "\n",
        "* Responsável (usuário chave): Gabriel Silva\n",
        "\n",
        "* Característica geral e objetivo do arquivo: armazena uma lista única e completa de produtos (SKU), informações de características (marca, categoria), informações financeiras (estoque movimentado, preço de custo, preço de venda e totalizadores) e informações sobre a movimentação de pedidos (pedido, data_movimento, vendedores).\n",
        "\n",
        "* Armazenamento para tratativas: Google Drive | Gabriel\n",
        "\n",
        "* Integração direta: Não"
      ],
      "metadata": {
        "id": "FD3JSYniDxPp"
      }
    },
    {
      "cell_type": "markdown",
      "source": [
        "### Regras de Negócios"
      ],
      "metadata": {
        "id": "YgIn9q8NEmSO"
      }
    },
    {
      "cell_type": "markdown",
      "source": [
        "    *   PRECO_VISTA = VALOR_CUSTO + 50%\n",
        "    *   PRECO_PRAZO = PRECO_VISTA + 10%\n",
        "    *   TOTAL_VLR_CUSTO = VALOR_CUSTO * quantidade de Estoque\n",
        "    *   TOTAL_VLR_VENDA = PRECO_VISTA * quantidade de Estoque"
      ],
      "metadata": {
        "id": "ADTzRRVMEr_w"
      }
    },
    {
      "cell_type": "markdown",
      "source": [
        "## Análise de Estratura"
      ],
      "metadata": {
        "id": "Y_SQgRsx7Pqf"
      }
    },
    {
      "cell_type": "code",
      "source": [
        "# Consultar estrtura\n",
        "\n",
        "dados.head(3)"
      ],
      "metadata": {
        "colab": {
          "base_uri": "https://localhost:8080/",
          "height": 250
        },
        "id": "wMPInHk0FdzU",
        "outputId": "b02e7c79-45fb-4d87-fde8-33645e073ce3"
      },
      "execution_count": 13,
      "outputs": [
        {
          "output_type": "execute_result",
          "data": {
            "text/plain": [
              "         SKU  TITULO   MARCA   CATEGORIA  VALOR_CUSTO  PRECO_VISTA  \\\n",
              "0  XYZ102030  Item 1  Amazon  Eletronico          300          450   \n",
              "1  XYZ102031  Item 2     IBM  Eletronico          650          975   \n",
              "2  XYZ102032  Item 3  Google    Internet          900         1350   \n",
              "\n",
              "   PRECO_PRAZO  ESTOQUE  TOTAL_VLR_CUSTO  TOTAL_VLR_VENDA             Estado  \\\n",
              "0          495       10             3000             4500  Rio Grande do Sul   \n",
              "1         1072       20            13000            19500  Rio Grande do Sul   \n",
              "2         1485       30            27000            40500          São Paulo   \n",
              "\n",
              "     Pais  Pedido Data_Movimento Vendedor  \n",
              "0  Brasil  214401     2024-12-09   Cleber  \n",
              "1  Brasil  540247     2023-08-10  Fonseca  \n",
              "2  Brasil  367707     2022-12-18      Ana  "
            ],
            "text/html": [
              "\n",
              "  <div id=\"df-2115a3f6-3438-43ef-9572-709b00918b5a\" class=\"colab-df-container\">\n",
              "    <div>\n",
              "<style scoped>\n",
              "    .dataframe tbody tr th:only-of-type {\n",
              "        vertical-align: middle;\n",
              "    }\n",
              "\n",
              "    .dataframe tbody tr th {\n",
              "        vertical-align: top;\n",
              "    }\n",
              "\n",
              "    .dataframe thead th {\n",
              "        text-align: right;\n",
              "    }\n",
              "</style>\n",
              "<table border=\"1\" class=\"dataframe\">\n",
              "  <thead>\n",
              "    <tr style=\"text-align: right;\">\n",
              "      <th></th>\n",
              "      <th>SKU</th>\n",
              "      <th>TITULO</th>\n",
              "      <th>MARCA</th>\n",
              "      <th>CATEGORIA</th>\n",
              "      <th>VALOR_CUSTO</th>\n",
              "      <th>PRECO_VISTA</th>\n",
              "      <th>PRECO_PRAZO</th>\n",
              "      <th>ESTOQUE</th>\n",
              "      <th>TOTAL_VLR_CUSTO</th>\n",
              "      <th>TOTAL_VLR_VENDA</th>\n",
              "      <th>Estado</th>\n",
              "      <th>Pais</th>\n",
              "      <th>Pedido</th>\n",
              "      <th>Data_Movimento</th>\n",
              "      <th>Vendedor</th>\n",
              "    </tr>\n",
              "  </thead>\n",
              "  <tbody>\n",
              "    <tr>\n",
              "      <th>0</th>\n",
              "      <td>XYZ102030</td>\n",
              "      <td>Item 1</td>\n",
              "      <td>Amazon</td>\n",
              "      <td>Eletronico</td>\n",
              "      <td>300</td>\n",
              "      <td>450</td>\n",
              "      <td>495</td>\n",
              "      <td>10</td>\n",
              "      <td>3000</td>\n",
              "      <td>4500</td>\n",
              "      <td>Rio Grande do Sul</td>\n",
              "      <td>Brasil</td>\n",
              "      <td>214401</td>\n",
              "      <td>2024-12-09</td>\n",
              "      <td>Cleber</td>\n",
              "    </tr>\n",
              "    <tr>\n",
              "      <th>1</th>\n",
              "      <td>XYZ102031</td>\n",
              "      <td>Item 2</td>\n",
              "      <td>IBM</td>\n",
              "      <td>Eletronico</td>\n",
              "      <td>650</td>\n",
              "      <td>975</td>\n",
              "      <td>1072</td>\n",
              "      <td>20</td>\n",
              "      <td>13000</td>\n",
              "      <td>19500</td>\n",
              "      <td>Rio Grande do Sul</td>\n",
              "      <td>Brasil</td>\n",
              "      <td>540247</td>\n",
              "      <td>2023-08-10</td>\n",
              "      <td>Fonseca</td>\n",
              "    </tr>\n",
              "    <tr>\n",
              "      <th>2</th>\n",
              "      <td>XYZ102032</td>\n",
              "      <td>Item 3</td>\n",
              "      <td>Google</td>\n",
              "      <td>Internet</td>\n",
              "      <td>900</td>\n",
              "      <td>1350</td>\n",
              "      <td>1485</td>\n",
              "      <td>30</td>\n",
              "      <td>27000</td>\n",
              "      <td>40500</td>\n",
              "      <td>São Paulo</td>\n",
              "      <td>Brasil</td>\n",
              "      <td>367707</td>\n",
              "      <td>2022-12-18</td>\n",
              "      <td>Ana</td>\n",
              "    </tr>\n",
              "  </tbody>\n",
              "</table>\n",
              "</div>\n",
              "    <div class=\"colab-df-buttons\">\n",
              "\n",
              "  <div class=\"colab-df-container\">\n",
              "    <button class=\"colab-df-convert\" onclick=\"convertToInteractive('df-2115a3f6-3438-43ef-9572-709b00918b5a')\"\n",
              "            title=\"Convert this dataframe to an interactive table.\"\n",
              "            style=\"display:none;\">\n",
              "\n",
              "  <svg xmlns=\"http://www.w3.org/2000/svg\" height=\"24px\" viewBox=\"0 -960 960 960\">\n",
              "    <path d=\"M120-120v-720h720v720H120Zm60-500h600v-160H180v160Zm220 220h160v-160H400v160Zm0 220h160v-160H400v160ZM180-400h160v-160H180v160Zm440 0h160v-160H620v160ZM180-180h160v-160H180v160Zm440 0h160v-160H620v160Z\"/>\n",
              "  </svg>\n",
              "    </button>\n",
              "\n",
              "  <style>\n",
              "    .colab-df-container {\n",
              "      display:flex;\n",
              "      gap: 12px;\n",
              "    }\n",
              "\n",
              "    .colab-df-convert {\n",
              "      background-color: #E8F0FE;\n",
              "      border: none;\n",
              "      border-radius: 50%;\n",
              "      cursor: pointer;\n",
              "      display: none;\n",
              "      fill: #1967D2;\n",
              "      height: 32px;\n",
              "      padding: 0 0 0 0;\n",
              "      width: 32px;\n",
              "    }\n",
              "\n",
              "    .colab-df-convert:hover {\n",
              "      background-color: #E2EBFA;\n",
              "      box-shadow: 0px 1px 2px rgba(60, 64, 67, 0.3), 0px 1px 3px 1px rgba(60, 64, 67, 0.15);\n",
              "      fill: #174EA6;\n",
              "    }\n",
              "\n",
              "    .colab-df-buttons div {\n",
              "      margin-bottom: 4px;\n",
              "    }\n",
              "\n",
              "    [theme=dark] .colab-df-convert {\n",
              "      background-color: #3B4455;\n",
              "      fill: #D2E3FC;\n",
              "    }\n",
              "\n",
              "    [theme=dark] .colab-df-convert:hover {\n",
              "      background-color: #434B5C;\n",
              "      box-shadow: 0px 1px 3px 1px rgba(0, 0, 0, 0.15);\n",
              "      filter: drop-shadow(0px 1px 2px rgba(0, 0, 0, 0.3));\n",
              "      fill: #FFFFFF;\n",
              "    }\n",
              "  </style>\n",
              "\n",
              "    <script>\n",
              "      const buttonEl =\n",
              "        document.querySelector('#df-2115a3f6-3438-43ef-9572-709b00918b5a button.colab-df-convert');\n",
              "      buttonEl.style.display =\n",
              "        google.colab.kernel.accessAllowed ? 'block' : 'none';\n",
              "\n",
              "      async function convertToInteractive(key) {\n",
              "        const element = document.querySelector('#df-2115a3f6-3438-43ef-9572-709b00918b5a');\n",
              "        const dataTable =\n",
              "          await google.colab.kernel.invokeFunction('convertToInteractive',\n",
              "                                                    [key], {});\n",
              "        if (!dataTable) return;\n",
              "\n",
              "        const docLinkHtml = 'Like what you see? Visit the ' +\n",
              "          '<a target=\"_blank\" href=https://colab.research.google.com/notebooks/data_table.ipynb>data table notebook</a>'\n",
              "          + ' to learn more about interactive tables.';\n",
              "        element.innerHTML = '';\n",
              "        dataTable['output_type'] = 'display_data';\n",
              "        await google.colab.output.renderOutput(dataTable, element);\n",
              "        const docLink = document.createElement('div');\n",
              "        docLink.innerHTML = docLinkHtml;\n",
              "        element.appendChild(docLink);\n",
              "      }\n",
              "    </script>\n",
              "  </div>\n",
              "\n",
              "\n",
              "<div id=\"df-7853422d-608d-44e8-a530-d5f04759746d\">\n",
              "  <button class=\"colab-df-quickchart\" onclick=\"quickchart('df-7853422d-608d-44e8-a530-d5f04759746d')\"\n",
              "            title=\"Suggest charts\"\n",
              "            style=\"display:none;\">\n",
              "\n",
              "<svg xmlns=\"http://www.w3.org/2000/svg\" height=\"24px\"viewBox=\"0 0 24 24\"\n",
              "     width=\"24px\">\n",
              "    <g>\n",
              "        <path d=\"M19 3H5c-1.1 0-2 .9-2 2v14c0 1.1.9 2 2 2h14c1.1 0 2-.9 2-2V5c0-1.1-.9-2-2-2zM9 17H7v-7h2v7zm4 0h-2V7h2v10zm4 0h-2v-4h2v4z\"/>\n",
              "    </g>\n",
              "</svg>\n",
              "  </button>\n",
              "\n",
              "<style>\n",
              "  .colab-df-quickchart {\n",
              "      --bg-color: #E8F0FE;\n",
              "      --fill-color: #1967D2;\n",
              "      --hover-bg-color: #E2EBFA;\n",
              "      --hover-fill-color: #174EA6;\n",
              "      --disabled-fill-color: #AAA;\n",
              "      --disabled-bg-color: #DDD;\n",
              "  }\n",
              "\n",
              "  [theme=dark] .colab-df-quickchart {\n",
              "      --bg-color: #3B4455;\n",
              "      --fill-color: #D2E3FC;\n",
              "      --hover-bg-color: #434B5C;\n",
              "      --hover-fill-color: #FFFFFF;\n",
              "      --disabled-bg-color: #3B4455;\n",
              "      --disabled-fill-color: #666;\n",
              "  }\n",
              "\n",
              "  .colab-df-quickchart {\n",
              "    background-color: var(--bg-color);\n",
              "    border: none;\n",
              "    border-radius: 50%;\n",
              "    cursor: pointer;\n",
              "    display: none;\n",
              "    fill: var(--fill-color);\n",
              "    height: 32px;\n",
              "    padding: 0;\n",
              "    width: 32px;\n",
              "  }\n",
              "\n",
              "  .colab-df-quickchart:hover {\n",
              "    background-color: var(--hover-bg-color);\n",
              "    box-shadow: 0 1px 2px rgba(60, 64, 67, 0.3), 0 1px 3px 1px rgba(60, 64, 67, 0.15);\n",
              "    fill: var(--button-hover-fill-color);\n",
              "  }\n",
              "\n",
              "  .colab-df-quickchart-complete:disabled,\n",
              "  .colab-df-quickchart-complete:disabled:hover {\n",
              "    background-color: var(--disabled-bg-color);\n",
              "    fill: var(--disabled-fill-color);\n",
              "    box-shadow: none;\n",
              "  }\n",
              "\n",
              "  .colab-df-spinner {\n",
              "    border: 2px solid var(--fill-color);\n",
              "    border-color: transparent;\n",
              "    border-bottom-color: var(--fill-color);\n",
              "    animation:\n",
              "      spin 1s steps(1) infinite;\n",
              "  }\n",
              "\n",
              "  @keyframes spin {\n",
              "    0% {\n",
              "      border-color: transparent;\n",
              "      border-bottom-color: var(--fill-color);\n",
              "      border-left-color: var(--fill-color);\n",
              "    }\n",
              "    20% {\n",
              "      border-color: transparent;\n",
              "      border-left-color: var(--fill-color);\n",
              "      border-top-color: var(--fill-color);\n",
              "    }\n",
              "    30% {\n",
              "      border-color: transparent;\n",
              "      border-left-color: var(--fill-color);\n",
              "      border-top-color: var(--fill-color);\n",
              "      border-right-color: var(--fill-color);\n",
              "    }\n",
              "    40% {\n",
              "      border-color: transparent;\n",
              "      border-right-color: var(--fill-color);\n",
              "      border-top-color: var(--fill-color);\n",
              "    }\n",
              "    60% {\n",
              "      border-color: transparent;\n",
              "      border-right-color: var(--fill-color);\n",
              "    }\n",
              "    80% {\n",
              "      border-color: transparent;\n",
              "      border-right-color: var(--fill-color);\n",
              "      border-bottom-color: var(--fill-color);\n",
              "    }\n",
              "    90% {\n",
              "      border-color: transparent;\n",
              "      border-bottom-color: var(--fill-color);\n",
              "    }\n",
              "  }\n",
              "</style>\n",
              "\n",
              "  <script>\n",
              "    async function quickchart(key) {\n",
              "      const quickchartButtonEl =\n",
              "        document.querySelector('#' + key + ' button');\n",
              "      quickchartButtonEl.disabled = true;  // To prevent multiple clicks.\n",
              "      quickchartButtonEl.classList.add('colab-df-spinner');\n",
              "      try {\n",
              "        const charts = await google.colab.kernel.invokeFunction(\n",
              "            'suggestCharts', [key], {});\n",
              "      } catch (error) {\n",
              "        console.error('Error during call to suggestCharts:', error);\n",
              "      }\n",
              "      quickchartButtonEl.classList.remove('colab-df-spinner');\n",
              "      quickchartButtonEl.classList.add('colab-df-quickchart-complete');\n",
              "    }\n",
              "    (() => {\n",
              "      let quickchartButtonEl =\n",
              "        document.querySelector('#df-7853422d-608d-44e8-a530-d5f04759746d button');\n",
              "      quickchartButtonEl.style.display =\n",
              "        google.colab.kernel.accessAllowed ? 'block' : 'none';\n",
              "    })();\n",
              "  </script>\n",
              "</div>\n",
              "\n",
              "    </div>\n",
              "  </div>\n"
            ],
            "application/vnd.google.colaboratory.intrinsic+json": {
              "type": "dataframe",
              "variable_name": "dados",
              "summary": "{\n  \"name\": \"dados\",\n  \"rows\": 18,\n  \"fields\": [\n    {\n      \"column\": \"SKU\",\n      \"properties\": {\n        \"dtype\": \"string\",\n        \"num_unique_values\": 18,\n        \"samples\": [\n          \"XYZ102030\",\n          \"XYZ102031\",\n          \"XYZ102038\"\n        ],\n        \"semantic_type\": \"\",\n        \"description\": \"\"\n      }\n    },\n    {\n      \"column\": \"TITULO\",\n      \"properties\": {\n        \"dtype\": \"string\",\n        \"num_unique_values\": 18,\n        \"samples\": [\n          \"Item 1\",\n          \"Item 2\",\n          \"Item 9\"\n        ],\n        \"semantic_type\": \"\",\n        \"description\": \"\"\n      }\n    },\n    {\n      \"column\": \"MARCA\",\n      \"properties\": {\n        \"dtype\": \"string\",\n        \"num_unique_values\": 9,\n        \"samples\": [\n          \"Disney\",\n          \"IBM\",\n          \"Dove\"\n        ],\n        \"semantic_type\": \"\",\n        \"description\": \"\"\n      }\n    },\n    {\n      \"column\": \"CATEGORIA\",\n      \"properties\": {\n        \"dtype\": \"category\",\n        \"num_unique_values\": 7,\n        \"samples\": [\n          \"Eletronico\",\n          \"Internet\",\n          \"Entretenimento\"\n        ],\n        \"semantic_type\": \"\",\n        \"description\": \"\"\n      }\n    },\n    {\n      \"column\": \"VALOR_CUSTO\",\n      \"properties\": {\n        \"dtype\": \"number\",\n        \"std\": 3595,\n        \"min\": 100,\n        \"max\": 15000,\n        \"num_unique_values\": 8,\n        \"samples\": [\n          650,\n          15000,\n          300\n        ],\n        \"semantic_type\": \"\",\n        \"description\": \"\"\n      }\n    },\n    {\n      \"column\": \"PRECO_VISTA\",\n      \"properties\": {\n        \"dtype\": \"number\",\n        \"std\": 5366,\n        \"min\": 450,\n        \"max\": 22500,\n        \"num_unique_values\": 8,\n        \"samples\": [\n          975,\n          22500,\n          450\n        ],\n        \"semantic_type\": \"\",\n        \"description\": \"\"\n      }\n    },\n    {\n      \"column\": \"PRECO_PRAZO\",\n      \"properties\": {\n        \"dtype\": \"number\",\n        \"std\": 5932,\n        \"min\": 165,\n        \"max\": 24750,\n        \"num_unique_values\": 8,\n        \"samples\": [\n          1072,\n          24750,\n          495\n        ],\n        \"semantic_type\": \"\",\n        \"description\": \"\"\n      }\n    },\n    {\n      \"column\": \"ESTOQUE\",\n      \"properties\": {\n        \"dtype\": \"number\",\n        \"std\": 62,\n        \"min\": 5,\n        \"max\": 200,\n        \"num_unique_values\": 17,\n        \"samples\": [\n          10,\n          20,\n          70\n        ],\n        \"semantic_type\": \"\",\n        \"description\": \"\"\n      }\n    },\n    {\n      \"column\": \"TOTAL_VLR_CUSTO\",\n      \"properties\": {\n        \"dtype\": \"number\",\n        \"std\": 38493,\n        \"min\": 3000,\n        \"max\": 128000,\n        \"num_unique_values\": 17,\n        \"samples\": [\n          3000,\n          13000,\n          39000\n        ],\n        \"semantic_type\": \"\",\n        \"description\": \"\"\n      }\n    },\n    {\n      \"column\": \"TOTAL_VLR_VENDA\",\n      \"properties\": {\n        \"dtype\": \"number\",\n        \"std\": 59945,\n        \"min\": 0,\n        \"max\": 192000,\n        \"num_unique_values\": 17,\n        \"samples\": [\n          4500,\n          19500,\n          58500\n        ],\n        \"semantic_type\": \"\",\n        \"description\": \"\"\n      }\n    },\n    {\n      \"column\": \"Estado\",\n      \"properties\": {\n        \"dtype\": \"category\",\n        \"num_unique_values\": 6,\n        \"samples\": [\n          \"Rio Grande do Sul\",\n          \"S\\u00e3o Paulo\",\n          \"Rio de Janeiro\"\n        ],\n        \"semantic_type\": \"\",\n        \"description\": \"\"\n      }\n    },\n    {\n      \"column\": \"Pais\",\n      \"properties\": {\n        \"dtype\": \"category\",\n        \"num_unique_values\": 1,\n        \"samples\": [\n          \"Brasil\"\n        ],\n        \"semantic_type\": \"\",\n        \"description\": \"\"\n      }\n    },\n    {\n      \"column\": \"Pedido\",\n      \"properties\": {\n        \"dtype\": \"number\",\n        \"std\": 184710,\n        \"min\": 385,\n        \"max\": 594614,\n        \"num_unique_values\": 18,\n        \"samples\": [\n          214401\n        ],\n        \"semantic_type\": \"\",\n        \"description\": \"\"\n      }\n    },\n    {\n      \"column\": \"Data_Movimento\",\n      \"properties\": {\n        \"dtype\": \"object\",\n        \"num_unique_values\": 18,\n        \"samples\": [\n          \"2024-12-09\"\n        ],\n        \"semantic_type\": \"\",\n        \"description\": \"\"\n      }\n    },\n    {\n      \"column\": \"Vendedor\",\n      \"properties\": {\n        \"dtype\": \"category\",\n        \"num_unique_values\": 6,\n        \"samples\": [\n          \"Cleber\"\n        ],\n        \"semantic_type\": \"\",\n        \"description\": \"\"\n      }\n    }\n  ]\n}"
            }
          },
          "metadata": {},
          "execution_count": 13
        }
      ]
    },
    {
      "cell_type": "code",
      "source": [
        "# CONTAR NÚMERO DE LINHAS E CAMPOS\n",
        "\n",
        "dados.shape\n",
        "\n",
        "# o arquivo possuí 18 linhas e 15 campos de valores."
      ],
      "metadata": {
        "colab": {
          "base_uri": "https://localhost:8080/"
        },
        "id": "JUKR-5uaFsV2",
        "outputId": "c6c1a60e-adf5-4774-d226-a3234e62e712"
      },
      "execution_count": 14,
      "outputs": [
        {
          "output_type": "execute_result",
          "data": {
            "text/plain": [
              "(18, 15)"
            ]
          },
          "metadata": {},
          "execution_count": 14
        }
      ]
    },
    {
      "cell_type": "code",
      "source": [
        "# EXTRAIR NOME DOS CAMPOS DO DATASET\n",
        "\n",
        "# Finalidade: listar o nome dos campos separados por vírgula.\n",
        "\n",
        "colunas = dados.columns.tolist()\n",
        "descricao_campos = ', '.join(colunas)\n",
        "\n",
        "print(descricao_campos)"
      ],
      "metadata": {
        "colab": {
          "base_uri": "https://localhost:8080/"
        },
        "id": "hsCbv_BtIyLH",
        "outputId": "bd0aa695-e22f-4f06-c063-05de363352b4"
      },
      "execution_count": 19,
      "outputs": [
        {
          "output_type": "stream",
          "name": "stdout",
          "text": [
            "SKU, TITULO, MARCA, CATEGORIA, VALOR_CUSTO, PRECO_VISTA, PRECO_PRAZO, ESTOQUE, TOTAL_VLR_CUSTO, TOTAL_VLR_VENDA, Estado, Pais, Pedido, Data_Movimento, Vendedor\n"
          ]
        }
      ]
    },
    {
      "cell_type": "code",
      "source": [
        "# Extrair nome e número de campos do Datafrema\n",
        "\n",
        "colunas = dados.columns.tolist()\n",
        "descricao_campos = ', '.join([f'{coluna} ({i})' for i, coluna in enumerate(colunas)])\n",
        "\n",
        "print(descricao_campos)"
      ],
      "metadata": {
        "colab": {
          "base_uri": "https://localhost:8080/"
        },
        "id": "OwueoqthG2_K",
        "outputId": "1257a053-94ca-4961-ea90-ad9bb1037775"
      },
      "execution_count": 25,
      "outputs": [
        {
          "output_type": "stream",
          "name": "stdout",
          "text": [
            "SKU (0), TITULO (1), MARCA (2), CATEGORIA (3), VALOR_CUSTO (4), PRECO_VISTA (5), PRECO_PRAZO (6), ESTOQUE (7), TOTAL_VLR_CUSTO (8), TOTAL_VLR_VENDA (9), Estado (10), Pais (11), Pedido (12), Data_Movimento (13), Vendedor (14)\n"
          ]
        }
      ]
    },
    {
      "cell_type": "markdown",
      "source": [
        "Validação dos campos numéricos (monetários)"
      ],
      "metadata": {
        "id": "EPtkZX_Y7Xzj"
      }
    },
    {
      "cell_type": "code",
      "source": [
        "# Identificar tipos de campos\n",
        "\n",
        "dados.dtypes"
      ],
      "metadata": {
        "colab": {
          "base_uri": "https://localhost:8080/",
          "height": 554
        },
        "id": "DErPEnLHJevn",
        "outputId": "424fdfa7-cb2b-48a8-dbe5-b00491115628"
      },
      "execution_count": 26,
      "outputs": [
        {
          "output_type": "execute_result",
          "data": {
            "text/plain": [
              "SKU                object\n",
              "TITULO             object\n",
              "MARCA              object\n",
              "CATEGORIA          object\n",
              "VALOR_CUSTO         int64\n",
              "PRECO_VISTA         int64\n",
              "PRECO_PRAZO         int64\n",
              "ESTOQUE             int64\n",
              "TOTAL_VLR_CUSTO     int64\n",
              "TOTAL_VLR_VENDA     int64\n",
              "Estado             object\n",
              "Pais               object\n",
              "Pedido              int64\n",
              "Data_Movimento     object\n",
              "Vendedor           object\n",
              "dtype: object"
            ],
            "text/html": [
              "<div>\n",
              "<style scoped>\n",
              "    .dataframe tbody tr th:only-of-type {\n",
              "        vertical-align: middle;\n",
              "    }\n",
              "\n",
              "    .dataframe tbody tr th {\n",
              "        vertical-align: top;\n",
              "    }\n",
              "\n",
              "    .dataframe thead th {\n",
              "        text-align: right;\n",
              "    }\n",
              "</style>\n",
              "<table border=\"1\" class=\"dataframe\">\n",
              "  <thead>\n",
              "    <tr style=\"text-align: right;\">\n",
              "      <th></th>\n",
              "      <th>0</th>\n",
              "    </tr>\n",
              "  </thead>\n",
              "  <tbody>\n",
              "    <tr>\n",
              "      <th>SKU</th>\n",
              "      <td>object</td>\n",
              "    </tr>\n",
              "    <tr>\n",
              "      <th>TITULO</th>\n",
              "      <td>object</td>\n",
              "    </tr>\n",
              "    <tr>\n",
              "      <th>MARCA</th>\n",
              "      <td>object</td>\n",
              "    </tr>\n",
              "    <tr>\n",
              "      <th>CATEGORIA</th>\n",
              "      <td>object</td>\n",
              "    </tr>\n",
              "    <tr>\n",
              "      <th>VALOR_CUSTO</th>\n",
              "      <td>int64</td>\n",
              "    </tr>\n",
              "    <tr>\n",
              "      <th>PRECO_VISTA</th>\n",
              "      <td>int64</td>\n",
              "    </tr>\n",
              "    <tr>\n",
              "      <th>PRECO_PRAZO</th>\n",
              "      <td>int64</td>\n",
              "    </tr>\n",
              "    <tr>\n",
              "      <th>ESTOQUE</th>\n",
              "      <td>int64</td>\n",
              "    </tr>\n",
              "    <tr>\n",
              "      <th>TOTAL_VLR_CUSTO</th>\n",
              "      <td>int64</td>\n",
              "    </tr>\n",
              "    <tr>\n",
              "      <th>TOTAL_VLR_VENDA</th>\n",
              "      <td>int64</td>\n",
              "    </tr>\n",
              "    <tr>\n",
              "      <th>Estado</th>\n",
              "      <td>object</td>\n",
              "    </tr>\n",
              "    <tr>\n",
              "      <th>Pais</th>\n",
              "      <td>object</td>\n",
              "    </tr>\n",
              "    <tr>\n",
              "      <th>Pedido</th>\n",
              "      <td>int64</td>\n",
              "    </tr>\n",
              "    <tr>\n",
              "      <th>Data_Movimento</th>\n",
              "      <td>object</td>\n",
              "    </tr>\n",
              "    <tr>\n",
              "      <th>Vendedor</th>\n",
              "      <td>object</td>\n",
              "    </tr>\n",
              "  </tbody>\n",
              "</table>\n",
              "</div><br><label><b>dtype:</b> object</label>"
            ]
          },
          "metadata": {},
          "execution_count": 26
        }
      ]
    },
    {
      "cell_type": "code",
      "source": [
        "# Exibir linhas e colunas específicas\n",
        "\n",
        "# Resultado (de quais campos preciso?:\n",
        "# SKU (0), TITULO (1), VALOR_CUSTO (4), PRECO_VISTA (5), PRECO_PRAZO (6), ESTOQUE (7),TOTAL_VLR_CUSTO (8), TOTAL_VLR_VENDA (9).\n",
        "\n",
        "dados.iloc[:5, [0,1,4,5,6,7,8,9]]\n"
      ],
      "metadata": {
        "colab": {
          "base_uri": "https://localhost:8080/",
          "height": 206
        },
        "id": "RVmNpTycKJ7u",
        "outputId": "a08cbcaa-b45c-4e2e-96fb-3b13c3faa682"
      },
      "execution_count": 27,
      "outputs": [
        {
          "output_type": "execute_result",
          "data": {
            "text/plain": [
              "         SKU  TITULO  VALOR_CUSTO  PRECO_VISTA  PRECO_PRAZO  ESTOQUE  \\\n",
              "0  XYZ102030  Item 1          300          450          495       10   \n",
              "1  XYZ102031  Item 2          650          975         1072       20   \n",
              "2  XYZ102032  Item 3          900         1350         1485       30   \n",
              "3  XYZ102033  Item 4         6500         9750        10725       10   \n",
              "4  XYZ102034  Item 5          650          975         1072       50   \n",
              "\n",
              "   TOTAL_VLR_CUSTO  TOTAL_VLR_VENDA  \n",
              "0             3000             4500  \n",
              "1            13000            19500  \n",
              "2            27000            40500  \n",
              "3            65000            97500  \n",
              "4            32500            48750  "
            ],
            "text/html": [
              "\n",
              "  <div id=\"df-e1bab662-0bc1-41c5-9376-7484d63014e7\" class=\"colab-df-container\">\n",
              "    <div>\n",
              "<style scoped>\n",
              "    .dataframe tbody tr th:only-of-type {\n",
              "        vertical-align: middle;\n",
              "    }\n",
              "\n",
              "    .dataframe tbody tr th {\n",
              "        vertical-align: top;\n",
              "    }\n",
              "\n",
              "    .dataframe thead th {\n",
              "        text-align: right;\n",
              "    }\n",
              "</style>\n",
              "<table border=\"1\" class=\"dataframe\">\n",
              "  <thead>\n",
              "    <tr style=\"text-align: right;\">\n",
              "      <th></th>\n",
              "      <th>SKU</th>\n",
              "      <th>TITULO</th>\n",
              "      <th>VALOR_CUSTO</th>\n",
              "      <th>PRECO_VISTA</th>\n",
              "      <th>PRECO_PRAZO</th>\n",
              "      <th>ESTOQUE</th>\n",
              "      <th>TOTAL_VLR_CUSTO</th>\n",
              "      <th>TOTAL_VLR_VENDA</th>\n",
              "    </tr>\n",
              "  </thead>\n",
              "  <tbody>\n",
              "    <tr>\n",
              "      <th>0</th>\n",
              "      <td>XYZ102030</td>\n",
              "      <td>Item 1</td>\n",
              "      <td>300</td>\n",
              "      <td>450</td>\n",
              "      <td>495</td>\n",
              "      <td>10</td>\n",
              "      <td>3000</td>\n",
              "      <td>4500</td>\n",
              "    </tr>\n",
              "    <tr>\n",
              "      <th>1</th>\n",
              "      <td>XYZ102031</td>\n",
              "      <td>Item 2</td>\n",
              "      <td>650</td>\n",
              "      <td>975</td>\n",
              "      <td>1072</td>\n",
              "      <td>20</td>\n",
              "      <td>13000</td>\n",
              "      <td>19500</td>\n",
              "    </tr>\n",
              "    <tr>\n",
              "      <th>2</th>\n",
              "      <td>XYZ102032</td>\n",
              "      <td>Item 3</td>\n",
              "      <td>900</td>\n",
              "      <td>1350</td>\n",
              "      <td>1485</td>\n",
              "      <td>30</td>\n",
              "      <td>27000</td>\n",
              "      <td>40500</td>\n",
              "    </tr>\n",
              "    <tr>\n",
              "      <th>3</th>\n",
              "      <td>XYZ102033</td>\n",
              "      <td>Item 4</td>\n",
              "      <td>6500</td>\n",
              "      <td>9750</td>\n",
              "      <td>10725</td>\n",
              "      <td>10</td>\n",
              "      <td>65000</td>\n",
              "      <td>97500</td>\n",
              "    </tr>\n",
              "    <tr>\n",
              "      <th>4</th>\n",
              "      <td>XYZ102034</td>\n",
              "      <td>Item 5</td>\n",
              "      <td>650</td>\n",
              "      <td>975</td>\n",
              "      <td>1072</td>\n",
              "      <td>50</td>\n",
              "      <td>32500</td>\n",
              "      <td>48750</td>\n",
              "    </tr>\n",
              "  </tbody>\n",
              "</table>\n",
              "</div>\n",
              "    <div class=\"colab-df-buttons\">\n",
              "\n",
              "  <div class=\"colab-df-container\">\n",
              "    <button class=\"colab-df-convert\" onclick=\"convertToInteractive('df-e1bab662-0bc1-41c5-9376-7484d63014e7')\"\n",
              "            title=\"Convert this dataframe to an interactive table.\"\n",
              "            style=\"display:none;\">\n",
              "\n",
              "  <svg xmlns=\"http://www.w3.org/2000/svg\" height=\"24px\" viewBox=\"0 -960 960 960\">\n",
              "    <path d=\"M120-120v-720h720v720H120Zm60-500h600v-160H180v160Zm220 220h160v-160H400v160Zm0 220h160v-160H400v160ZM180-400h160v-160H180v160Zm440 0h160v-160H620v160ZM180-180h160v-160H180v160Zm440 0h160v-160H620v160Z\"/>\n",
              "  </svg>\n",
              "    </button>\n",
              "\n",
              "  <style>\n",
              "    .colab-df-container {\n",
              "      display:flex;\n",
              "      gap: 12px;\n",
              "    }\n",
              "\n",
              "    .colab-df-convert {\n",
              "      background-color: #E8F0FE;\n",
              "      border: none;\n",
              "      border-radius: 50%;\n",
              "      cursor: pointer;\n",
              "      display: none;\n",
              "      fill: #1967D2;\n",
              "      height: 32px;\n",
              "      padding: 0 0 0 0;\n",
              "      width: 32px;\n",
              "    }\n",
              "\n",
              "    .colab-df-convert:hover {\n",
              "      background-color: #E2EBFA;\n",
              "      box-shadow: 0px 1px 2px rgba(60, 64, 67, 0.3), 0px 1px 3px 1px rgba(60, 64, 67, 0.15);\n",
              "      fill: #174EA6;\n",
              "    }\n",
              "\n",
              "    .colab-df-buttons div {\n",
              "      margin-bottom: 4px;\n",
              "    }\n",
              "\n",
              "    [theme=dark] .colab-df-convert {\n",
              "      background-color: #3B4455;\n",
              "      fill: #D2E3FC;\n",
              "    }\n",
              "\n",
              "    [theme=dark] .colab-df-convert:hover {\n",
              "      background-color: #434B5C;\n",
              "      box-shadow: 0px 1px 3px 1px rgba(0, 0, 0, 0.15);\n",
              "      filter: drop-shadow(0px 1px 2px rgba(0, 0, 0, 0.3));\n",
              "      fill: #FFFFFF;\n",
              "    }\n",
              "  </style>\n",
              "\n",
              "    <script>\n",
              "      const buttonEl =\n",
              "        document.querySelector('#df-e1bab662-0bc1-41c5-9376-7484d63014e7 button.colab-df-convert');\n",
              "      buttonEl.style.display =\n",
              "        google.colab.kernel.accessAllowed ? 'block' : 'none';\n",
              "\n",
              "      async function convertToInteractive(key) {\n",
              "        const element = document.querySelector('#df-e1bab662-0bc1-41c5-9376-7484d63014e7');\n",
              "        const dataTable =\n",
              "          await google.colab.kernel.invokeFunction('convertToInteractive',\n",
              "                                                    [key], {});\n",
              "        if (!dataTable) return;\n",
              "\n",
              "        const docLinkHtml = 'Like what you see? Visit the ' +\n",
              "          '<a target=\"_blank\" href=https://colab.research.google.com/notebooks/data_table.ipynb>data table notebook</a>'\n",
              "          + ' to learn more about interactive tables.';\n",
              "        element.innerHTML = '';\n",
              "        dataTable['output_type'] = 'display_data';\n",
              "        await google.colab.output.renderOutput(dataTable, element);\n",
              "        const docLink = document.createElement('div');\n",
              "        docLink.innerHTML = docLinkHtml;\n",
              "        element.appendChild(docLink);\n",
              "      }\n",
              "    </script>\n",
              "  </div>\n",
              "\n",
              "\n",
              "<div id=\"df-66dbd9b1-944d-4474-9ff3-d369d4a09b55\">\n",
              "  <button class=\"colab-df-quickchart\" onclick=\"quickchart('df-66dbd9b1-944d-4474-9ff3-d369d4a09b55')\"\n",
              "            title=\"Suggest charts\"\n",
              "            style=\"display:none;\">\n",
              "\n",
              "<svg xmlns=\"http://www.w3.org/2000/svg\" height=\"24px\"viewBox=\"0 0 24 24\"\n",
              "     width=\"24px\">\n",
              "    <g>\n",
              "        <path d=\"M19 3H5c-1.1 0-2 .9-2 2v14c0 1.1.9 2 2 2h14c1.1 0 2-.9 2-2V5c0-1.1-.9-2-2-2zM9 17H7v-7h2v7zm4 0h-2V7h2v10zm4 0h-2v-4h2v4z\"/>\n",
              "    </g>\n",
              "</svg>\n",
              "  </button>\n",
              "\n",
              "<style>\n",
              "  .colab-df-quickchart {\n",
              "      --bg-color: #E8F0FE;\n",
              "      --fill-color: #1967D2;\n",
              "      --hover-bg-color: #E2EBFA;\n",
              "      --hover-fill-color: #174EA6;\n",
              "      --disabled-fill-color: #AAA;\n",
              "      --disabled-bg-color: #DDD;\n",
              "  }\n",
              "\n",
              "  [theme=dark] .colab-df-quickchart {\n",
              "      --bg-color: #3B4455;\n",
              "      --fill-color: #D2E3FC;\n",
              "      --hover-bg-color: #434B5C;\n",
              "      --hover-fill-color: #FFFFFF;\n",
              "      --disabled-bg-color: #3B4455;\n",
              "      --disabled-fill-color: #666;\n",
              "  }\n",
              "\n",
              "  .colab-df-quickchart {\n",
              "    background-color: var(--bg-color);\n",
              "    border: none;\n",
              "    border-radius: 50%;\n",
              "    cursor: pointer;\n",
              "    display: none;\n",
              "    fill: var(--fill-color);\n",
              "    height: 32px;\n",
              "    padding: 0;\n",
              "    width: 32px;\n",
              "  }\n",
              "\n",
              "  .colab-df-quickchart:hover {\n",
              "    background-color: var(--hover-bg-color);\n",
              "    box-shadow: 0 1px 2px rgba(60, 64, 67, 0.3), 0 1px 3px 1px rgba(60, 64, 67, 0.15);\n",
              "    fill: var(--button-hover-fill-color);\n",
              "  }\n",
              "\n",
              "  .colab-df-quickchart-complete:disabled,\n",
              "  .colab-df-quickchart-complete:disabled:hover {\n",
              "    background-color: var(--disabled-bg-color);\n",
              "    fill: var(--disabled-fill-color);\n",
              "    box-shadow: none;\n",
              "  }\n",
              "\n",
              "  .colab-df-spinner {\n",
              "    border: 2px solid var(--fill-color);\n",
              "    border-color: transparent;\n",
              "    border-bottom-color: var(--fill-color);\n",
              "    animation:\n",
              "      spin 1s steps(1) infinite;\n",
              "  }\n",
              "\n",
              "  @keyframes spin {\n",
              "    0% {\n",
              "      border-color: transparent;\n",
              "      border-bottom-color: var(--fill-color);\n",
              "      border-left-color: var(--fill-color);\n",
              "    }\n",
              "    20% {\n",
              "      border-color: transparent;\n",
              "      border-left-color: var(--fill-color);\n",
              "      border-top-color: var(--fill-color);\n",
              "    }\n",
              "    30% {\n",
              "      border-color: transparent;\n",
              "      border-left-color: var(--fill-color);\n",
              "      border-top-color: var(--fill-color);\n",
              "      border-right-color: var(--fill-color);\n",
              "    }\n",
              "    40% {\n",
              "      border-color: transparent;\n",
              "      border-right-color: var(--fill-color);\n",
              "      border-top-color: var(--fill-color);\n",
              "    }\n",
              "    60% {\n",
              "      border-color: transparent;\n",
              "      border-right-color: var(--fill-color);\n",
              "    }\n",
              "    80% {\n",
              "      border-color: transparent;\n",
              "      border-right-color: var(--fill-color);\n",
              "      border-bottom-color: var(--fill-color);\n",
              "    }\n",
              "    90% {\n",
              "      border-color: transparent;\n",
              "      border-bottom-color: var(--fill-color);\n",
              "    }\n",
              "  }\n",
              "</style>\n",
              "\n",
              "  <script>\n",
              "    async function quickchart(key) {\n",
              "      const quickchartButtonEl =\n",
              "        document.querySelector('#' + key + ' button');\n",
              "      quickchartButtonEl.disabled = true;  // To prevent multiple clicks.\n",
              "      quickchartButtonEl.classList.add('colab-df-spinner');\n",
              "      try {\n",
              "        const charts = await google.colab.kernel.invokeFunction(\n",
              "            'suggestCharts', [key], {});\n",
              "      } catch (error) {\n",
              "        console.error('Error during call to suggestCharts:', error);\n",
              "      }\n",
              "      quickchartButtonEl.classList.remove('colab-df-spinner');\n",
              "      quickchartButtonEl.classList.add('colab-df-quickchart-complete');\n",
              "    }\n",
              "    (() => {\n",
              "      let quickchartButtonEl =\n",
              "        document.querySelector('#df-66dbd9b1-944d-4474-9ff3-d369d4a09b55 button');\n",
              "      quickchartButtonEl.style.display =\n",
              "        google.colab.kernel.accessAllowed ? 'block' : 'none';\n",
              "    })();\n",
              "  </script>\n",
              "</div>\n",
              "\n",
              "    </div>\n",
              "  </div>\n"
            ],
            "application/vnd.google.colaboratory.intrinsic+json": {
              "type": "dataframe",
              "summary": "{\n  \"name\": \"dados\",\n  \"rows\": 5,\n  \"fields\": [\n    {\n      \"column\": \"SKU\",\n      \"properties\": {\n        \"dtype\": \"string\",\n        \"num_unique_values\": 5,\n        \"samples\": [\n          \"XYZ102031\",\n          \"XYZ102034\",\n          \"XYZ102032\"\n        ],\n        \"semantic_type\": \"\",\n        \"description\": \"\"\n      }\n    },\n    {\n      \"column\": \"TITULO\",\n      \"properties\": {\n        \"dtype\": \"string\",\n        \"num_unique_values\": 5,\n        \"samples\": [\n          \"Item 2\",\n          \"Item 5\",\n          \"Item 3\"\n        ],\n        \"semantic_type\": \"\",\n        \"description\": \"\"\n      }\n    },\n    {\n      \"column\": \"VALOR_CUSTO\",\n      \"properties\": {\n        \"dtype\": \"number\",\n        \"std\": 2636,\n        \"min\": 300,\n        \"max\": 6500,\n        \"num_unique_values\": 4,\n        \"samples\": [\n          650,\n          6500,\n          300\n        ],\n        \"semantic_type\": \"\",\n        \"description\": \"\"\n      }\n    },\n    {\n      \"column\": \"PRECO_VISTA\",\n      \"properties\": {\n        \"dtype\": \"number\",\n        \"std\": 3954,\n        \"min\": 450,\n        \"max\": 9750,\n        \"num_unique_values\": 4,\n        \"samples\": [\n          975,\n          9750,\n          450\n        ],\n        \"semantic_type\": \"\",\n        \"description\": \"\"\n      }\n    },\n    {\n      \"column\": \"PRECO_PRAZO\",\n      \"properties\": {\n        \"dtype\": \"number\",\n        \"std\": 4349,\n        \"min\": 495,\n        \"max\": 10725,\n        \"num_unique_values\": 4,\n        \"samples\": [\n          1072,\n          10725,\n          495\n        ],\n        \"semantic_type\": \"\",\n        \"description\": \"\"\n      }\n    },\n    {\n      \"column\": \"ESTOQUE\",\n      \"properties\": {\n        \"dtype\": \"number\",\n        \"std\": 16,\n        \"min\": 10,\n        \"max\": 50,\n        \"num_unique_values\": 4,\n        \"samples\": [\n          20,\n          50,\n          10\n        ],\n        \"semantic_type\": \"\",\n        \"description\": \"\"\n      }\n    },\n    {\n      \"column\": \"TOTAL_VLR_CUSTO\",\n      \"properties\": {\n        \"dtype\": \"number\",\n        \"std\": 23665,\n        \"min\": 3000,\n        \"max\": 65000,\n        \"num_unique_values\": 5,\n        \"samples\": [\n          13000,\n          32500,\n          27000\n        ],\n        \"semantic_type\": \"\",\n        \"description\": \"\"\n      }\n    },\n    {\n      \"column\": \"TOTAL_VLR_VENDA\",\n      \"properties\": {\n        \"dtype\": \"number\",\n        \"std\": 35498,\n        \"min\": 4500,\n        \"max\": 97500,\n        \"num_unique_values\": 5,\n        \"samples\": [\n          19500,\n          48750,\n          40500\n        ],\n        \"semantic_type\": \"\",\n        \"description\": \"\"\n      }\n    }\n  ]\n}"
            }
          },
          "metadata": {},
          "execution_count": 27
        }
      ]
    },
    {
      "cell_type": "code",
      "source": [
        "# Gerar cópia do datafreme\n",
        "\n",
        "d2 = dados.copy()"
      ],
      "metadata": {
        "id": "5pU0KHlcKwrl"
      },
      "execution_count": 28,
      "outputs": []
    },
    {
      "cell_type": "markdown",
      "source": [
        "## VALIDANDO CAMPOS NUMÉRICOS E TRATATIVAS"
      ],
      "metadata": {
        "id": "1QJBSwu-Lcg5"
      }
    },
    {
      "cell_type": "markdown",
      "source": [
        "Regra: PRECO_VISTA = VALOR_CUSTO + 50%"
      ],
      "metadata": {
        "id": "r1dOf5F_LjN7"
      }
    },
    {
      "cell_type": "code",
      "source": [
        "# Etapa 1-4\n",
        "\n",
        "##############################################################################\n",
        "# Regra: \"PRECO_VISTA = VALOR_CUSTO + 50%\"\n",
        "##############################################################################\n",
        "\n",
        "# Criando a coluna de validação com validação da regra:\n",
        "d2['Val_PRECO_VISTA'] = d2['PRECO_VISTA'] == d2['VALOR_CUSTO'] * 1.5\n",
        "\n",
        "# Retornar resultados como \"FALSE\", ou seja com erros:\n",
        "erros = d2[d2['Val_PRECO_VISTA'] == False]\n",
        "\n",
        "print(erros)\n",
        "\n",
        "# Ocorrências:\n",
        "# Ação requerida:\n",
        "# Ação paliativa:\n",
        "# Ação preventiva:"
      ],
      "metadata": {
        "colab": {
          "base_uri": "https://localhost:8080/"
        },
        "id": "s6GybAdKLiD9",
        "outputId": "e807ef65-8f32-4bd8-e794-a6c1cdcfade3"
      },
      "execution_count": 30,
      "outputs": [
        {
          "output_type": "stream",
          "name": "stdout",
          "text": [
            "          SKU   TITULO   MARCA CATEGORIA  VALOR_CUSTO  PRECO_VISTA  \\\n",
            "17  ABC102049  Item 20  Nestle  Nutrição          100         1500   \n",
            "\n",
            "    PRECO_PRAZO  ESTOQUE  TOTAL_VLR_CUSTO  TOTAL_VLR_VENDA     Estado    Pais  \\\n",
            "17          165      200            20000                0  São Paulo  Brasil   \n",
            "\n",
            "    Pedido Data_Movimento Vendedor  Val_PRECO_VISTA  \n",
            "17  234984     2024-06-08  Fonseca            False  \n"
          ]
        }
      ]
    },
    {
      "cell_type": "code",
      "source": [
        "# Etapa 2-4\n",
        "# Criando um novo campo com base na regra ou recriar o mesmo campo:\n",
        "\n",
        "# Neste caso estou recriando o mesmo campo e recálculando todas as linhas de acordo com as regras:\n",
        "\n",
        "d2['PRECO_VISTA'] = (dados['VALOR_CUSTO'] * 1.5).round(0).astype(int)"
      ],
      "metadata": {
        "id": "UeCPgHD7N21t"
      },
      "execution_count": 31,
      "outputs": []
    },
    {
      "cell_type": "code",
      "source": [
        "# Etapa 3-4\n",
        "# (Opcional): Coreção de dados em linhas e campos específicos:\n",
        "\n",
        "# Altera o valor de 'PRECO_VISTA' na linha 17 para 150 e dispensa execução da etapa 4-4.\n",
        "\n",
        "#dados.loc[17, 'PRECO_VISTA'] = 150\n",
        "\n",
        "# OBS.: Não foi aplicado neste caso."
      ],
      "metadata": {
        "id": "H-a5LqDAOwnj"
      },
      "execution_count": null,
      "outputs": []
    },
    {
      "cell_type": "code",
      "source": [
        "# Etapa 4-4\n",
        "\n",
        "# Recriando a coluna de Revalidação com base em um novo campo cálculado com a regra:\n",
        "d2['Val_PRECO_VISTA'] = d2['PRECO_VISTA'] == d2['VALOR_CUSTO'] * 1.5\n",
        "\n",
        "# Retornar resultados como \"FALSE\", ou seja com erros:\n",
        "erros = d2[d2['Val_PRECO_VISTA'] == False]\n",
        "\n",
        "print(erros)\n",
        "\n",
        "# Ocorrências: ação concluída."
      ],
      "metadata": {
        "colab": {
          "base_uri": "https://localhost:8080/"
        },
        "id": "VLGKLB1yPFoU",
        "outputId": "8058a75d-101d-4887-c8ad-52006c8d7669"
      },
      "execution_count": 32,
      "outputs": [
        {
          "output_type": "stream",
          "name": "stdout",
          "text": [
            "Empty DataFrame\n",
            "Columns: [SKU, TITULO, MARCA, CATEGORIA, VALOR_CUSTO, PRECO_VISTA, PRECO_PRAZO, ESTOQUE, TOTAL_VLR_CUSTO, TOTAL_VLR_VENDA, Estado, Pais, Pedido, Data_Movimento, Vendedor, Val_PRECO_VISTA]\n",
            "Index: []\n"
          ]
        }
      ]
    },
    {
      "cell_type": "markdown",
      "source": [
        "Gerar novo Dataset (tratado)"
      ],
      "metadata": {
        "id": "FTGAOZhM7sEj"
      }
    },
    {
      "cell_type": "code",
      "source": [
        "# Exportar para CSV\n",
        "\n",
        "# d2.to_csv('Endereço - caminho drive /Nome da pasta / Nome do arquivo /formato (CSV / XLSX'), index=false')\n",
        "\n",
        "d2.to_csv('/content/drive/MyDrive/A-Colab_Note_2/MyDrive/A-Colab_Note_2/z_Bases/Lista-Tratado-Campos-Numericos-120425.CSV', index=False)"
      ],
      "metadata": {
        "id": "n9MdtRNSYsUr"
      },
      "execution_count": 42,
      "outputs": []
    },
    {
      "cell_type": "code",
      "source": [
        "# Exportar para Excel\n",
        "\n",
        "d2.to_excel('/content/drive/MyDrive/A-Colab_Note_2/MyDrive/A-Colab_Note_2/z_Bases/Lista-Tratado-Campos-Numericos-120425-2.xlsx', index=False)"
      ],
      "metadata": {
        "id": "vMKF-scwaUDo"
      },
      "execution_count": 43,
      "outputs": []
    }
  ]
}